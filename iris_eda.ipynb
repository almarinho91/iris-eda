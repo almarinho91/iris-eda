{
 "cells": [
  {
   "cell_type": "markdown",
   "id": "8d35485e",
   "metadata": {},
   "source": [
    "# 🌸 Exploratory Data Analysis with the Iris Dataset\n",
    "\n",
    "**Author:** André Lopes Marinho  \n",
    "**Goal:** Use descriptive statistics and Python to understand the structure and distribution of flower measurements in the Iris dataset.\n",
    "\n",
    "---\n",
    "\n",
    "## 📌 What You'll Learn\n",
    "\n",
    "- What are **mean**, **median**, and **mode**?\n",
    "- How to calculate **variance** and **standard deviation**\n",
    "- How to summarize a real-world dataset using Python\n",
    "\n",
    "---\n",
    "\n",
    "## 📊 Dataset: The Iris Flowers\n",
    "\n",
    "This famous dataset contains 150 records of **three iris species** (*setosa*, *versicolor*, *virginica*), with:\n",
    "\n",
    "- Sepal length & width\n",
    "- Petal length & width\n",
    "\n",
    "---"
   ]
  },
  {
   "cell_type": "markdown",
   "id": "6c7be2f6",
   "metadata": {},
   "source": [
    "## 1. 📁 **Load the data**:"
   ]
  },
  {
   "cell_type": "code",
   "execution_count": 1,
   "id": "09cc6302",
   "metadata": {},
   "outputs": [
    {
     "data": {
      "text/html": [
       "<div>\n",
       "<style scoped>\n",
       "    .dataframe tbody tr th:only-of-type {\n",
       "        vertical-align: middle;\n",
       "    }\n",
       "\n",
       "    .dataframe tbody tr th {\n",
       "        vertical-align: top;\n",
       "    }\n",
       "\n",
       "    .dataframe thead th {\n",
       "        text-align: right;\n",
       "    }\n",
       "</style>\n",
       "<table border=\"1\" class=\"dataframe\">\n",
       "  <thead>\n",
       "    <tr style=\"text-align: right;\">\n",
       "      <th></th>\n",
       "      <th>sepal_length</th>\n",
       "      <th>sepal_width</th>\n",
       "      <th>petal_length</th>\n",
       "      <th>petal_width</th>\n",
       "      <th>species</th>\n",
       "    </tr>\n",
       "  </thead>\n",
       "  <tbody>\n",
       "    <tr>\n",
       "      <th>0</th>\n",
       "      <td>5.1</td>\n",
       "      <td>3.5</td>\n",
       "      <td>1.4</td>\n",
       "      <td>0.2</td>\n",
       "      <td>setosa</td>\n",
       "    </tr>\n",
       "    <tr>\n",
       "      <th>1</th>\n",
       "      <td>4.9</td>\n",
       "      <td>3.0</td>\n",
       "      <td>1.4</td>\n",
       "      <td>0.2</td>\n",
       "      <td>setosa</td>\n",
       "    </tr>\n",
       "    <tr>\n",
       "      <th>2</th>\n",
       "      <td>4.7</td>\n",
       "      <td>3.2</td>\n",
       "      <td>1.3</td>\n",
       "      <td>0.2</td>\n",
       "      <td>setosa</td>\n",
       "    </tr>\n",
       "    <tr>\n",
       "      <th>3</th>\n",
       "      <td>4.6</td>\n",
       "      <td>3.1</td>\n",
       "      <td>1.5</td>\n",
       "      <td>0.2</td>\n",
       "      <td>setosa</td>\n",
       "    </tr>\n",
       "    <tr>\n",
       "      <th>4</th>\n",
       "      <td>5.0</td>\n",
       "      <td>3.6</td>\n",
       "      <td>1.4</td>\n",
       "      <td>0.2</td>\n",
       "      <td>setosa</td>\n",
       "    </tr>\n",
       "  </tbody>\n",
       "</table>\n",
       "</div>"
      ],
      "text/plain": [
       "   sepal_length  sepal_width  petal_length  petal_width species\n",
       "0           5.1          3.5           1.4          0.2  setosa\n",
       "1           4.9          3.0           1.4          0.2  setosa\n",
       "2           4.7          3.2           1.3          0.2  setosa\n",
       "3           4.6          3.1           1.5          0.2  setosa\n",
       "4           5.0          3.6           1.4          0.2  setosa"
      ]
     },
     "execution_count": 1,
     "metadata": {},
     "output_type": "execute_result"
    }
   ],
   "source": [
    "import pandas as pd\n",
    "\n",
    "url = \"https://raw.githubusercontent.com/mwaskom/seaborn-data/master/iris.csv\"\n",
    "df = pd.read_csv(url)\n",
    "df.head()"
   ]
  },
  {
   "cell_type": "markdown",
   "id": "d4a634aa",
   "metadata": {},
   "source": [
    "## 2. 🔍 **Understanding the Data Structure**\n",
    "## 2. 🔍 **Understanding the Data Structure**\n",
    "\n",
    "Before analyzing or visualizing data, it's critical to understand what we're working with. Step 2 is all about inspecting the dataset's **structure, completeness, and summary statistics**.\n",
    "\n",
    "We'll use the following tools from the `pandas` library:\n",
    "\n",
    "- `.info()` – to check column names, data types, and missing values.\n",
    "- `.describe()` – to generate summary statistics for numeric columns."
   ]
  },
  {
   "cell_type": "code",
   "execution_count": 2,
   "id": "ee3acd90",
   "metadata": {},
   "outputs": [
    {
     "name": "stdout",
     "output_type": "stream",
     "text": [
      "<class 'pandas.core.frame.DataFrame'>\n",
      "RangeIndex: 150 entries, 0 to 149\n",
      "Data columns (total 5 columns):\n",
      " #   Column        Non-Null Count  Dtype  \n",
      "---  ------        --------------  -----  \n",
      " 0   sepal_length  150 non-null    float64\n",
      " 1   sepal_width   150 non-null    float64\n",
      " 2   petal_length  150 non-null    float64\n",
      " 3   petal_width   150 non-null    float64\n",
      " 4   species       150 non-null    object \n",
      "dtypes: float64(4), object(1)\n",
      "memory usage: 6.0+ KB\n"
     ]
    },
    {
     "data": {
      "text/html": [
       "<div>\n",
       "<style scoped>\n",
       "    .dataframe tbody tr th:only-of-type {\n",
       "        vertical-align: middle;\n",
       "    }\n",
       "\n",
       "    .dataframe tbody tr th {\n",
       "        vertical-align: top;\n",
       "    }\n",
       "\n",
       "    .dataframe thead th {\n",
       "        text-align: right;\n",
       "    }\n",
       "</style>\n",
       "<table border=\"1\" class=\"dataframe\">\n",
       "  <thead>\n",
       "    <tr style=\"text-align: right;\">\n",
       "      <th></th>\n",
       "      <th>sepal_length</th>\n",
       "      <th>sepal_width</th>\n",
       "      <th>petal_length</th>\n",
       "      <th>petal_width</th>\n",
       "    </tr>\n",
       "  </thead>\n",
       "  <tbody>\n",
       "    <tr>\n",
       "      <th>count</th>\n",
       "      <td>150.000000</td>\n",
       "      <td>150.000000</td>\n",
       "      <td>150.000000</td>\n",
       "      <td>150.000000</td>\n",
       "    </tr>\n",
       "    <tr>\n",
       "      <th>mean</th>\n",
       "      <td>5.843333</td>\n",
       "      <td>3.057333</td>\n",
       "      <td>3.758000</td>\n",
       "      <td>1.199333</td>\n",
       "    </tr>\n",
       "    <tr>\n",
       "      <th>std</th>\n",
       "      <td>0.828066</td>\n",
       "      <td>0.435866</td>\n",
       "      <td>1.765298</td>\n",
       "      <td>0.762238</td>\n",
       "    </tr>\n",
       "    <tr>\n",
       "      <th>min</th>\n",
       "      <td>4.300000</td>\n",
       "      <td>2.000000</td>\n",
       "      <td>1.000000</td>\n",
       "      <td>0.100000</td>\n",
       "    </tr>\n",
       "    <tr>\n",
       "      <th>25%</th>\n",
       "      <td>5.100000</td>\n",
       "      <td>2.800000</td>\n",
       "      <td>1.600000</td>\n",
       "      <td>0.300000</td>\n",
       "    </tr>\n",
       "    <tr>\n",
       "      <th>50%</th>\n",
       "      <td>5.800000</td>\n",
       "      <td>3.000000</td>\n",
       "      <td>4.350000</td>\n",
       "      <td>1.300000</td>\n",
       "    </tr>\n",
       "    <tr>\n",
       "      <th>75%</th>\n",
       "      <td>6.400000</td>\n",
       "      <td>3.300000</td>\n",
       "      <td>5.100000</td>\n",
       "      <td>1.800000</td>\n",
       "    </tr>\n",
       "    <tr>\n",
       "      <th>max</th>\n",
       "      <td>7.900000</td>\n",
       "      <td>4.400000</td>\n",
       "      <td>6.900000</td>\n",
       "      <td>2.500000</td>\n",
       "    </tr>\n",
       "  </tbody>\n",
       "</table>\n",
       "</div>"
      ],
      "text/plain": [
       "       sepal_length  sepal_width  petal_length  petal_width\n",
       "count    150.000000   150.000000    150.000000   150.000000\n",
       "mean       5.843333     3.057333      3.758000     1.199333\n",
       "std        0.828066     0.435866      1.765298     0.762238\n",
       "min        4.300000     2.000000      1.000000     0.100000\n",
       "25%        5.100000     2.800000      1.600000     0.300000\n",
       "50%        5.800000     3.000000      4.350000     1.300000\n",
       "75%        6.400000     3.300000      5.100000     1.800000\n",
       "max        7.900000     4.400000      6.900000     2.500000"
      ]
     },
     "execution_count": 2,
     "metadata": {},
     "output_type": "execute_result"
    }
   ],
   "source": [
    "df.info()\n",
    "df.describe()"
   ]
  },
  {
   "cell_type": "markdown",
   "id": "be7bd525",
   "metadata": {},
   "source": [
    "## 📐 Step 3 – Descriptive Statistics\n",
    "\n",
    "Now that we’ve explored the dataset’s structure, let’s dive into **descriptive statistics**. These are numerical values that summarize and describe the main features of a dataset.\n",
    "\n",
    "In this step, we’ll calculate:\n",
    "\n",
    "- Measures of **central tendency**: mean, median, mode\n",
    "- Measures of **spread (dispersion)**: variance and standard deviation\n",
    "\n",
    "These statistics give insight into the typical values and variability of each feature.\n",
    "\n",
    "---"
   ]
  },
  {
   "cell_type": "markdown",
   "id": "6c80ce1b",
   "metadata": {},
   "source": [
    "\n",
    "### 🧠 Mean (Arithmetic Average)\n",
    "\n",
    "The mean is the sum of all values divided by the number of values. It's useful to understand the **central location** of the data.\n",
    "\n",
    "$$\n",
    "\\text{Mean} = \\bar{x} = \\frac{1}{n} \\sum_{i=1}^{n} x_i\n",
    "$$"
   ]
  },
  {
   "cell_type": "code",
   "execution_count": 3,
   "id": "1a453bda",
   "metadata": {},
   "outputs": [
    {
     "data": {
      "text/plain": [
       "sepal_length    5.843333\n",
       "sepal_width     3.057333\n",
       "petal_length    3.758000\n",
       "petal_width     1.199333\n",
       "dtype: float64"
      ]
     },
     "execution_count": 3,
     "metadata": {},
     "output_type": "execute_result"
    }
   ],
   "source": [
    "df.mean(numeric_only=True)"
   ]
  },
  {
   "cell_type": "markdown",
   "id": "54e0fd07",
   "metadata": {},
   "source": [
    "### 🧠 Median\n",
    "\n",
    "The median is the middle value when all values are sorted. It’s less sensitive to outliers than the mean.\n",
    "\n",
    "- If \\( n \\) is odd:\n",
    "  \n",
    "$$\n",
    "\\text{Median} = x_{\\left(\\frac{n+1}{2}\\right)}\n",
    "$$\n",
    "\n",
    "- If \\( n \\) is even:\n",
    "\n",
    "$$\n",
    "\\text{Median} = \\frac{x_{\\left(\\frac{n}{2}\\right)} + x_{\\left(\\frac{n}{2}+1\\right)}}{2}\n",
    "$$"
   ]
  },
  {
   "cell_type": "code",
   "execution_count": 4,
   "id": "ea3f9b3c",
   "metadata": {},
   "outputs": [
    {
     "data": {
      "text/plain": [
       "sepal_length    5.80\n",
       "sepal_width     3.00\n",
       "petal_length    4.35\n",
       "petal_width     1.30\n",
       "dtype: float64"
      ]
     },
     "execution_count": 4,
     "metadata": {},
     "output_type": "execute_result"
    }
   ],
   "source": [
    "df.median(numeric_only=True)"
   ]
  },
  {
   "cell_type": "markdown",
   "id": "4bbc211d",
   "metadata": {},
   "source": [
    "### 🧠 Mode\n",
    "The mode is the most frequently occurring value in a dataset. There can be multiple modes.\n",
    "\n",
    "$$\n",
    "\\text{Mode} = \\text{value with highest frequency}\n",
    "$$"
   ]
  },
  {
   "cell_type": "code",
   "execution_count": 5,
   "id": "6149e133",
   "metadata": {},
   "outputs": [
    {
     "data": {
      "text/plain": [
       "sepal_length    5.0\n",
       "sepal_width     3.0\n",
       "petal_length    1.4\n",
       "petal_width     0.2\n",
       "Name: 0, dtype: float64"
      ]
     },
     "execution_count": 5,
     "metadata": {},
     "output_type": "execute_result"
    }
   ],
   "source": [
    "df.mode(numeric_only=True).iloc[0]"
   ]
  },
  {
   "cell_type": "markdown",
   "id": "c1cf9d57",
   "metadata": {},
   "source": [
    "### 🔁 Variance\n",
    "\n",
    "Variance measures how far the values are spread out from the mean. It is the average of the squared differences from the mean. A larger variance means more spread in the data.\n",
    "\n",
    "- **Population variance**:\n",
    "\n",
    "$$\n",
    "\\sigma^2 = \\frac{1}{n} \\sum_{i=1}^{n} (x_i - \\bar{x})^2\n",
    "$$\n",
    "\n",
    "- **Sample variance** (used by default in `pandas`):\n",
    "\n",
    "$$\n",
    "s^2 = \\frac{1}{n - 1} \\sum_{i=1}^{n} (x_i - \\bar{x})^2\n",
    "$$"
   ]
  },
  {
   "cell_type": "code",
   "execution_count": 6,
   "id": "b2e7feea",
   "metadata": {},
   "outputs": [
    {
     "data": {
      "text/plain": [
       "sepal_length    0.685694\n",
       "sepal_width     0.189979\n",
       "petal_length    3.116278\n",
       "petal_width     0.581006\n",
       "dtype: float64"
      ]
     },
     "execution_count": 6,
     "metadata": {},
     "output_type": "execute_result"
    }
   ],
   "source": [
    "df.var(numeric_only=True)"
   ]
  },
  {
   "cell_type": "markdown",
   "id": "f3af8038",
   "metadata": {},
   "source": [
    "### 🔁 Standard Deviation\n",
    "\n",
    "The standard deviation is the square root of the variance and is in the same unit as the original data. It’s one of the most common ways to quantify variability.\n",
    "\n",
    "- **Population standard deviation**:\n",
    "\n",
    "$$\n",
    "\\sigma = \\sqrt{ \\frac{1}{n} \\sum_{i=1}^{n} (x_i - \\bar{x})^2 }\n",
    "$$\n",
    "\n",
    "- **Sample standard deviation**:\n",
    "\n",
    "$$\n",
    "s = \\sqrt{ \\frac{1}{n - 1} \\sum_{i=1}^{n} (x_i - \\bar{x})^2 }\n",
    "$$\n"
   ]
  },
  {
   "cell_type": "code",
   "execution_count": 7,
   "id": "5a0ffbb0",
   "metadata": {},
   "outputs": [
    {
     "data": {
      "text/plain": [
       "sepal_length    0.828066\n",
       "sepal_width     0.435866\n",
       "petal_length    1.765298\n",
       "petal_width     0.762238\n",
       "dtype: float64"
      ]
     },
     "execution_count": 7,
     "metadata": {},
     "output_type": "execute_result"
    }
   ],
   "source": [
    "df.std(numeric_only=True)"
   ]
  },
  {
   "cell_type": "markdown",
   "id": "989b13df",
   "metadata": {},
   "source": [
    "> ⚠️ Note: In this notebook, we're using **sample statistics**. \n",
    "> That means variance and standard deviation are calculated with **n - 1** in the denominator, \n",
    "> which corrects for bias when estimating from a sample."
   ]
  },
  {
   "cell_type": "markdown",
   "id": "6119f632",
   "metadata": {},
   "source": [
    "## 3. ❓ – Interpretation Questions & Answers\n",
    "\n",
    "Using the descriptive statistics we calculated, let’s reflect on what we’ve learned:\n",
    "\n",
    "---\n",
    "\n",
    "### 💡 What is the average petal length across all species?\n",
    "\n",
    "The average petal length is approximately **3.76 cm**.\n",
    "\n",
    "---\n",
    "\n",
    "### 💡 Which feature has the highest variance? What does that imply?\n",
    "\n",
    "**Petal length** has the highest variance (≈ 3.12). This suggests that petal length varies the most across different observations and is likely a **strong indicator of class differences**.\n",
    "\n",
    "---\n",
    "\n",
    "### 💡 Which feature has the lowest standard deviation?\n",
    "\n",
    "**Sepal width** has the lowest standard deviation (≈ 0.44), indicating **less variation** across samples. This feature might be **less useful for distinguishing species**.\n",
    "\n",
    "---\n",
    "\n",
    "### 💡 How might these statistics help us identify features that are useful for classification?\n",
    "\n",
    "In classification problems, features with **greater variability** often provide **more useful information** to distinguish between classes. For the Iris dataset, **petal length** and **petal width** are likely to be more useful than **sepal width**, because they vary more across species."
   ]
  }
 ],
 "metadata": {
  "kernelspec": {
   "display_name": "datasci",
   "language": "python",
   "name": "python3"
  },
  "language_info": {
   "codemirror_mode": {
    "name": "ipython",
    "version": 3
   },
   "file_extension": ".py",
   "mimetype": "text/x-python",
   "name": "python",
   "nbconvert_exporter": "python",
   "pygments_lexer": "ipython3",
   "version": "3.12.6"
  }
 },
 "nbformat": 4,
 "nbformat_minor": 5
}
